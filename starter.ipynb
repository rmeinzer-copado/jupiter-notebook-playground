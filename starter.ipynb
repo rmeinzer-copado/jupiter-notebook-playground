{
 "cells": [
  {
   "cell_type": "code",
   "execution_count": 1,
   "id": "6b0a97ed-d6e9-4f87-98a2-980c7a5b7e0d",
   "metadata": {},
   "outputs": [],
   "source": [
    "from dotenv import load_dotenv\n",
    "import os\n",
    "from langchain_openai import ChatOpenAI\n",
    "\n",
    "# Load environment variables from .env file\n",
    "load_dotenv()\n",
    "\n",
    "llm = ChatOpenAI()"
   ]
  },
  {
   "cell_type": "code",
   "execution_count": 2,
   "id": "8f0f3d35-24f0-42b3-8718-b5629b87d66a",
   "metadata": {},
   "outputs": [
    {
     "data": {
      "text/plain": [
       "AIMessage(content='Langsmith can help with testing in the following ways:\\n\\n1. Automated testing: Langsmith can provide tools and libraries for implementing automated testing, which can help speed up testing processes and ensure more thorough coverage of code.\\n\\n2. Test case generation: Langsmith can assist in generating test cases based on the specifications and requirements of the software being tested, making it easier to identify and address potential issues.\\n\\n3. Performance testing: Langsmith can provide tools and resources for performance testing, allowing testers to evaluate the performance of the software under different conditions and identify potential bottlenecks or areas for improvement.\\n\\n4. Integration testing: Langsmith can help with integration testing by providing tools and frameworks for testing how different components of the software interact and work together.\\n\\n5. Reporting and analysis: Langsmith can assist in generating test reports and analyzing test results, making it easier to track the progress of testing efforts and identify areas that need further attention.')"
      ]
     },
     "execution_count": 2,
     "metadata": {},
     "output_type": "execute_result"
    }
   ],
   "source": [
    "llm.invoke(\"how can langsmith help with testing?\")"
   ]
  },
  {
   "cell_type": "code",
   "execution_count": 3,
   "id": "54b94f73-fd27-4edf-8271-3009c0f903e8",
   "metadata": {},
   "outputs": [],
   "source": [
    "from langchain_core.prompts import ChatPromptTemplate\n",
    "prompt = ChatPromptTemplate.from_messages([\n",
    "    (\"system\", \"You are world class technical documentation writer.\"),\n",
    "    (\"user\", \"{input}\")\n",
    "])"
   ]
  },
  {
   "cell_type": "code",
   "execution_count": 4,
   "id": "4b371ced-78a9-4dd0-a921-18dde5f8e106",
   "metadata": {},
   "outputs": [],
   "source": [
    "chain = prompt | llm "
   ]
  },
  {
   "cell_type": "code",
   "execution_count": 5,
   "id": "0c07d5f5",
   "metadata": {},
   "outputs": [
    {
     "data": {
      "text/plain": [
       "AIMessage(content=\"Langsmith can help with testing in various ways:\\n1. Automated Testing: Langsmith can automate the testing process to improve efficiency and accuracy. It can generate test scripts based on predefined test cases and execute them automatically.\\n\\n2. Test Data Generation: Langsmith can generate realistic and diverse test data to ensure comprehensive testing coverage. This helps in identifying edge cases and potential issues early in the development cycle.\\n\\n3. Performance Testing: Langsmith can simulate large loads and stress on the system to evaluate its performance under different conditions. It can generate realistic user interactions to test the system's responsiveness and scalability.\\n\\n4. Regression Testing: Langsmith can automate regression testing to quickly validate that new code changes have not introduced any unintended side effects or regressions in the software.\\n\\n5. Continuous Integration: Langsmith can be integrated into the CI/CD pipeline to automate testing as part of the software delivery process. This ensures that code changes are continuously tested and validated before deployment.\\n\\nOverall, Langsmith can streamline the testing process, improve test coverage, and enhance the overall quality of the software product.\")"
      ]
     },
     "execution_count": 5,
     "metadata": {},
     "output_type": "execute_result"
    }
   ],
   "source": [
    "chain.invoke({\"input\": \"how can langsmith help with testing?\"})"
   ]
  },
  {
   "cell_type": "code",
   "execution_count": 6,
   "id": "f9462cbe",
   "metadata": {},
   "outputs": [],
   "source": [
    "from langchain_core.output_parsers import StrOutputParser\n",
    "\n",
    "output_parser = StrOutputParser()"
   ]
  },
  {
   "cell_type": "code",
   "execution_count": 7,
   "id": "407521ce",
   "metadata": {},
   "outputs": [],
   "source": [
    "chain = prompt | llm | output_parser"
   ]
  },
  {
   "cell_type": "code",
   "execution_count": 8,
   "id": "4f999c71",
   "metadata": {},
   "outputs": [
    {
     "data": {
      "text/plain": [
       "'Langsmith can help with testing in various ways, including:\\n\\n1. Automated Testing: Langsmith can be used to generate test cases, test data, and scripts for automated testing. This can help improve test coverage and efficiency.\\n\\n2. Test Scenario Generation: Langsmith can generate test scenarios based on specified constraints and requirements, helping testers to identify potential edge cases and corner cases that may not have been considered otherwise.\\n\\n3. API Testing: Langsmith can assist in generating API test scripts and data for testing the functionality and performance of APIs.\\n\\n4. Load Testing: Langsmith can be used to generate realistic load test scenarios to simulate high traffic conditions and test the scalability and performance of an application.\\n\\n5. Regression Testing: Langsmith can generate test cases to be used for regression testing, ensuring that new changes do not break existing functionality.\\n\\n6. Data-Driven Testing: Langsmith can generate test data sets for data-driven testing, where test cases are executed multiple times with different input data.\\n\\nBy leveraging Langsmith for testing activities, testers can save time, increase test coverage, and improve the overall quality of the software being tested.'"
      ]
     },
     "execution_count": 8,
     "metadata": {},
     "output_type": "execute_result"
    }
   ],
   "source": [
    "chain.invoke({\"input\": \"how can langsmith help with testing?\"})"
   ]
  },
  {
   "cell_type": "code",
   "execution_count": 9,
   "id": "d888cad5",
   "metadata": {},
   "outputs": [],
   "source": [
    "from langchain_community.document_loaders import WebBaseLoader\n",
    "loader = WebBaseLoader(\"https://docs.smith.langchain.com\")\n",
    "\n",
    "docs = loader.load()"
   ]
  },
  {
   "cell_type": "code",
   "execution_count": 10,
   "id": "706dd2ae",
   "metadata": {},
   "outputs": [],
   "source": [
    "from langchain_openai import OpenAIEmbeddings\n",
    "\n",
    "embeddings = OpenAIEmbeddings()"
   ]
  },
  {
   "cell_type": "code",
   "execution_count": 11,
   "id": "6a5e58dc",
   "metadata": {},
   "outputs": [],
   "source": [
    "from langchain_community.vectorstores import FAISS\n",
    "from langchain.text_splitter import RecursiveCharacterTextSplitter\n",
    "\n",
    "\n",
    "text_splitter = RecursiveCharacterTextSplitter()\n",
    "documents = text_splitter.split_documents(docs)\n",
    "vector = FAISS.from_documents(documents, embeddings)"
   ]
  },
  {
   "cell_type": "code",
   "execution_count": 12,
   "id": "757218df",
   "metadata": {},
   "outputs": [],
   "source": [
    "from langchain.chains.combine_documents import create_stuff_documents_chain\n",
    "\n",
    "prompt = ChatPromptTemplate.from_template(\"\"\"Answer the following question based only on the provided context:\n",
    "\n",
    "<context>\n",
    "{context}\n",
    "</context>\n",
    "\n",
    "Question: {input}\"\"\")\n",
    "\n",
    "document_chain = create_stuff_documents_chain(llm, prompt)"
   ]
  },
  {
   "cell_type": "code",
   "execution_count": 13,
   "id": "32d81f94",
   "metadata": {},
   "outputs": [
    {
     "data": {
      "text/plain": [
       "'Langsmith can help with testing by allowing users to visualize test results.'"
      ]
     },
     "execution_count": 13,
     "metadata": {},
     "output_type": "execute_result"
    }
   ],
   "source": [
    "from langchain_core.documents import Document\n",
    "\n",
    "document_chain.invoke({\n",
    "    \"input\": \"how can langsmith help with testing?\",\n",
    "    \"context\": [Document(page_content=\"langsmith can let you visualize test results\")]\n",
    "})"
   ]
  },
  {
   "cell_type": "code",
   "execution_count": 14,
   "id": "8691868f",
   "metadata": {},
   "outputs": [],
   "source": [
    "from langchain.chains import create_retrieval_chain\n",
    "\n",
    "retriever = vector.as_retriever()\n",
    "retrieval_chain = create_retrieval_chain(retriever, document_chain)"
   ]
  },
  {
   "cell_type": "code",
   "execution_count": 15,
   "id": "36fda5ae",
   "metadata": {},
   "outputs": [
    {
     "name": "stdout",
     "output_type": "stream",
     "text": [
      "LangSmith can help with testing by providing capabilities to debug, test, evaluate, and monitor chains and intelligent agents built on any LLM framework. It offers tracing and evaluation quick start guides, as well as additional resources such as the LangSmith Cookbook for tutorials and end-to-end walkthroughs.\n"
     ]
    }
   ],
   "source": [
    "response = retrieval_chain.invoke({\"input\": \"how can langsmith help with testing?\"})\n",
    "print(response[\"answer\"])\n",
    "\n",
    "# LangSmith offers several features that can help with testing:..."
   ]
  }
 ],
 "metadata": {
  "kernelspec": {
   "display_name": "Python 3 (ipykernel)",
   "language": "python",
   "name": "python3"
  },
  "language_info": {
   "codemirror_mode": {
    "name": "ipython",
    "version": 3
   },
   "file_extension": ".py",
   "mimetype": "text/x-python",
   "name": "python",
   "nbconvert_exporter": "python",
   "pygments_lexer": "ipython3",
   "version": "3.10.13"
  }
 },
 "nbformat": 4,
 "nbformat_minor": 5
}
