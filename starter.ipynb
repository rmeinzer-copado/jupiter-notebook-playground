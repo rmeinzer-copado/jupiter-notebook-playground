{
 "cells": [
  {
   "cell_type": "code",
   "execution_count": 12,
   "id": "6b0a97ed-d6e9-4f87-98a2-980c7a5b7e0d",
   "metadata": {},
   "outputs": [],
   "source": [
    "from dotenv import load_dotenv\n",
    "import os\n",
    "from langchain_openai import ChatOpenAI\n",
    "\n",
    "# Load environment variables from .env file\n",
    "load_dotenv()\n",
    "\n",
    "llm = ChatOpenAI()"
   ]
  },
  {
   "cell_type": "code",
   "execution_count": 13,
   "id": "8f0f3d35-24f0-42b3-8718-b5629b87d66a",
   "metadata": {},
   "outputs": [
    {
     "data": {
      "text/plain": [
       "AIMessage(content='Langsmith can help with testing in several ways:\\n\\n1. Automated Testing: Langsmith can be used to create automated tests for software applications, allowing testers to quickly and efficiently run tests and identify any issues or bugs.\\n\\n2. Test Case Generation: Langsmith can generate test cases based on specific requirements or user stories, helping testers to ensure that all aspects of the software are thoroughly tested.\\n\\n3. Performance Testing: Langsmith can be used to simulate large numbers of users or data, helping testers to evaluate the performance of the software under different conditions.\\n\\n4. Regression Testing: Langsmith can automate the process of running regression tests, ensuring that new code changes do not negatively impact existing functionality.\\n\\n5. Integration Testing: Langsmith can be used to automate the testing of integrated systems or components, helping testers to identify any issues that arise when different parts of the software interact.\\n\\nOverall, Langsmith can help testers save time, increase test coverage, and improve the overall quality of software testing.')"
      ]
     },
     "execution_count": 13,
     "metadata": {},
     "output_type": "execute_result"
    }
   ],
   "source": [
    "llm.invoke(\"how can langsmith help with testing?\")"
   ]
  },
  {
   "cell_type": "code",
   "execution_count": 14,
   "id": "54b94f73-fd27-4edf-8271-3009c0f903e8",
   "metadata": {},
   "outputs": [],
   "source": [
    "from langchain_core.prompts import ChatPromptTemplate\n",
    "prompt = ChatPromptTemplate.from_messages([\n",
    "    (\"system\", \"You are world class technical documentation writer.\"),\n",
    "    (\"user\", \"{input}\")\n",
    "])"
   ]
  },
  {
   "cell_type": "code",
   "execution_count": 15,
   "id": "4b371ced-78a9-4dd0-a921-18dde5f8e106",
   "metadata": {},
   "outputs": [],
   "source": [
    "chain = prompt | llm "
   ]
  },
  {
   "cell_type": "code",
   "execution_count": 16,
   "id": "0c07d5f5",
   "metadata": {},
   "outputs": [
    {
     "data": {
      "text/plain": [
       "AIMessage(content='Langsmith can help with testing in a variety of ways, thanks to its powerful language analysis capabilities. Here are some ways in which Langsmith can assist with testing:\\n\\n1. **Automated Testing**: Langsmith can be integrated with testing frameworks to automate the testing of language-specific features in software applications. This can help in detecting issues related to language processing, syntax errors, and other language-related bugs.\\n\\n2. **Language Compatibility Testing**: Langsmith can analyze code written in different programming languages to ensure compatibility and consistency across different parts of the software. This can help in identifying potential issues that may arise due to language differences.\\n\\n3. **Code Quality Analysis**: Langsmith can perform static code analysis to identify potential code quality issues, such as code duplication, complexity, and maintainability. This can help in improving the overall quality of the codebase and reducing the likelihood of bugs.\\n\\n4. **Security Testing**: Langsmith can assist in security testing by analyzing code for vulnerabilities related to language-specific features, such as injection attacks or buffer overflows. This can help in identifying and fixing security issues before they are exploited by attackers.\\n\\n5. **Performance Testing**: Langsmith can analyze code for performance bottlenecks related to language-specific constructs and provide insights into optimizing code for better performance. This can help in improving the overall performance of the software application.\\n\\nOverall, Langsmith can be a valuable tool in the testing process by providing detailed insights into language-specific issues and helping in ensuring the quality, security, and performance of software applications.')"
      ]
     },
     "execution_count": 16,
     "metadata": {},
     "output_type": "execute_result"
    }
   ],
   "source": [
    "chain.invoke({\"input\": \"how can langsmith help with testing?\"})"
   ]
  },
  {
   "cell_type": "code",
   "execution_count": 17,
   "id": "f9462cbe",
   "metadata": {},
   "outputs": [],
   "source": [
    "from langchain_core.output_parsers import StrOutputParser\n",
    "\n",
    "output_parser = StrOutputParser()"
   ]
  },
  {
   "cell_type": "code",
   "execution_count": 18,
   "id": "407521ce",
   "metadata": {},
   "outputs": [],
   "source": [
    "chain = prompt | llm | output_parser"
   ]
  },
  {
   "cell_type": "code",
   "execution_count": 19,
   "id": "4f999c71",
   "metadata": {},
   "outputs": [
    {
     "data": {
      "text/plain": [
       "'Langsmith can help with testing in several ways:\\n\\n1. Automated Testing: Langsmith can generate test cases automatically based on the specifications provided, helping to save time and effort in creating test cases manually.\\n\\n2. Test Coverage: Langsmith can analyze the codebase and identify areas that are not covered by existing test cases, helping to improve overall test coverage.\\n\\n3. Regression Testing: Langsmith can automatically generate regression test cases to ensure that new code changes do not introduce any unintended bugs or regressions.\\n\\n4. Performance Testing: Langsmith can help in generating load testing scenarios to simulate high traffic conditions and analyze the performance of the application under stress.\\n\\n5. Security Testing: Langsmith can assist in generating security test cases to identify vulnerabilities in the application and ensure that sensitive data is protected.\\n\\nOverall, Langsmith can be a valuable tool in enhancing the testing process by automating various aspects of testing and improving the overall quality of the software product.'"
      ]
     },
     "execution_count": 19,
     "metadata": {},
     "output_type": "execute_result"
    }
   ],
   "source": [
    "chain.invoke({\"input\": \"how can langsmith help with testing?\"})"
   ]
  },
  {
   "cell_type": "code",
   "execution_count": 20,
   "id": "d888cad5",
   "metadata": {},
   "outputs": [],
   "source": [
    "from langchain_community.document_loaders import WebBaseLoader\n",
    "loader = WebBaseLoader(\"https://docs.smith.langchain.com\")\n",
    "\n",
    "docs = loader.load()"
   ]
  },
  {
   "cell_type": "code",
   "execution_count": 21,
   "id": "706dd2ae",
   "metadata": {},
   "outputs": [],
   "source": [
    "from langchain_openai import OpenAIEmbeddings\n",
    "\n",
    "embeddings = OpenAIEmbeddings()"
   ]
  },
  {
   "cell_type": "code",
   "execution_count": 22,
   "id": "6a5e58dc",
   "metadata": {},
   "outputs": [],
   "source": [
    "from langchain_community.vectorstores import FAISS\n",
    "from langchain.text_splitter import RecursiveCharacterTextSplitter\n",
    "\n",
    "\n",
    "text_splitter = RecursiveCharacterTextSplitter()\n",
    "documents = text_splitter.split_documents(docs)\n",
    "vector = FAISS.from_documents(documents, embeddings)"
   ]
  },
  {
   "cell_type": "code",
   "execution_count": 23,
   "id": "757218df",
   "metadata": {},
   "outputs": [],
   "source": [
    "from langchain.chains.combine_documents import create_stuff_documents_chain\n",
    "\n",
    "prompt = ChatPromptTemplate.from_template(\"\"\"Answer the following question based only on the provided context:\n",
    "\n",
    "<context>\n",
    "{context}\n",
    "</context>\n",
    "\n",
    "Question: {input}\"\"\")\n",
    "\n",
    "document_chain = create_stuff_documents_chain(llm, prompt)"
   ]
  },
  {
   "cell_type": "code",
   "execution_count": 24,
   "id": "32d81f94",
   "metadata": {},
   "outputs": [
    {
     "data": {
      "text/plain": [
       "'Langsmith can help with testing by allowing you to visualize test results.'"
      ]
     },
     "execution_count": 24,
     "metadata": {},
     "output_type": "execute_result"
    }
   ],
   "source": [
    "from langchain_core.documents import Document\n",
    "\n",
    "document_chain.invoke({\n",
    "    \"input\": \"how can langsmith help with testing?\",\n",
    "    \"context\": [Document(page_content=\"langsmith can let you visualize test results\")]\n",
    "})"
   ]
  },
  {
   "cell_type": "code",
   "execution_count": 25,
   "id": "8691868f",
   "metadata": {},
   "outputs": [],
   "source": [
    "from langchain.chains import create_retrieval_chain\n",
    "\n",
    "retriever = vector.as_retriever()\n",
    "retrieval_chain = create_retrieval_chain(retriever, document_chain)"
   ]
  },
  {
   "cell_type": "code",
   "execution_count": 28,
   "id": "36fda5ae",
   "metadata": {},
   "outputs": [
    {
     "name": "stdout",
     "output_type": "stream",
     "text": [
      "LangSmith can help with testing by allowing users to debug, test, evaluate, and monitor chains and intelligent agents built on any LLM framework. It offers tracing capabilities for tracing quick start and evaluation capabilities for evaluation quick start. Users can also learn about the workflows LangSmith supports at each stage of the LLM application lifecycle through the User Guide section.\n"
     ]
    }
   ],
   "source": [
    "response = retrieval_chain.invoke({\"input\": \"how can langsmith help with testing?\"})\n",
    "print(response[\"answer\"])\n",
    "\n",
    "# LangSmith offers several features that can help with testing:..."
   ]
  }
 ],
 "metadata": {
  "kernelspec": {
   "display_name": "Python 3 (ipykernel)",
   "language": "python",
   "name": "python3"
  },
  "language_info": {
   "codemirror_mode": {
    "name": "ipython",
    "version": 3
   },
   "file_extension": ".py",
   "mimetype": "text/x-python",
   "name": "python",
   "nbconvert_exporter": "python",
   "pygments_lexer": "ipython3",
   "version": "3.10.13"
  }
 },
 "nbformat": 4,
 "nbformat_minor": 5
}
