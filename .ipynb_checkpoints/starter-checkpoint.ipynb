{
 "cells": [
  {
   "cell_type": "code",
   "execution_count": 4,
   "id": "6b0a97ed-d6e9-4f87-98a2-980c7a5b7e0d",
   "metadata": {},
   "outputs": [],
   "source": [
    "from dotenv import load_dotenv\n",
    "import os\n",
    "from langchain_openai import ChatOpenAI\n",
    "\n",
    "# Load environment variables from .env file\n",
    "load_dotenv()\n",
    "\n",
    "llm = ChatOpenAI()"
   ]
  },
  {
   "cell_type": "code",
   "execution_count": 5,
   "id": "8f0f3d35-24f0-42b3-8718-b5629b87d66a",
   "metadata": {},
   "outputs": [
    {
     "data": {
      "text/plain": [
       "AIMessage(content='Langsmith can help with testing by providing automated test scripts that can be run to test the functionality of software or applications. These scripts can be customized to test specific features or user interactions, allowing for thorough testing of the software before it is released to users. Additionally, Langsmith can help with performance testing, security testing, and regression testing to ensure that the software is robust and reliable. Overall, Langsmith can save time and resources by automating the testing process and providing valuable insights into the quality of the software.')"
      ]
     },
     "execution_count": 5,
     "metadata": {},
     "output_type": "execute_result"
    }
   ],
   "source": [
    "llm.invoke(\"how can langsmith help with testing?\")"
   ]
  },
  {
   "cell_type": "code",
   "execution_count": 6,
   "id": "54b94f73-fd27-4edf-8271-3009c0f903e8",
   "metadata": {},
   "outputs": [],
   "source": [
    "from langchain_core.prompts import ChatPromptTemplate\n",
    "prompt = ChatPromptTemplate.from_messages([\n",
    "    (\"system\", \"You are world class technical documentation writer.\"),\n",
    "    (\"user\", \"{input}\")\n",
    "])"
   ]
  },
  {
   "cell_type": "code",
   "execution_count": 7,
   "id": "4b371ced-78a9-4dd0-a921-18dde5f8e106",
   "metadata": {},
   "outputs": [],
   "source": [
    "chain = prompt | llm "
   ]
  },
  {
   "cell_type": "code",
   "execution_count": 8,
   "id": "0c07d5f5",
   "metadata": {},
   "outputs": [
    {
     "data": {
      "text/plain": [
       "AIMessage(content='Langsmith can help with testing in several ways:\\n\\n1. Test Automation: Langsmith can be used to automate the testing of software applications by writing test scripts in various programming languages supported by the platform. These scripts can be executed repeatedly to ensure the software functions as expected.\\n\\n2. Test Data Generation: Langsmith can generate realistic and diverse test data to ensure thorough testing of software applications. This can help identify edge cases and uncover potential issues that may not be apparent with limited test data.\\n\\n3. Integration Testing: Langsmith can be used for integration testing to verify that different components of a software system work together correctly. By writing test scripts that interact with various parts of the system, testers can ensure that the integration points function as intended.\\n\\n4. Performance Testing: Langsmith can be used to conduct performance testing of software applications by simulating a large number of users or transactions. This can help identify potential bottlenecks and optimize the performance of the software.\\n\\n5. Regression Testing: Langsmith can automate regression testing by running test scripts to verify that recent changes to the software have not introduced new bugs or issues. This can help ensure that the software maintains its quality and functionality over time.\\n\\nOverall, Langsmith can streamline the testing process, increase test coverage, and improve the quality of software applications by leveraging its capabilities for test automation, test data generation, integration testing, performance testing, and regression testing.')"
      ]
     },
     "execution_count": 8,
     "metadata": {},
     "output_type": "execute_result"
    }
   ],
   "source": [
    "chain.invoke({\"input\": \"how can langsmith help with testing?\"})"
   ]
  },
  {
   "cell_type": "code",
   "execution_count": 9,
   "id": "f9462cbe",
   "metadata": {},
   "outputs": [],
   "source": [
    "from langchain_core.output_parsers import StrOutputParser\n",
    "\n",
    "output_parser = StrOutputParser()"
   ]
  },
  {
   "cell_type": "code",
   "execution_count": 10,
   "id": "407521ce",
   "metadata": {},
   "outputs": [],
   "source": [
    "chain = prompt | llm | output_parser"
   ]
  },
  {
   "cell_type": "code",
   "execution_count": 11,
   "id": "4f999c71",
   "metadata": {},
   "outputs": [
    {
     "data": {
      "text/plain": [
       "'Langsmith is a powerful tool that can greatly assist with testing in various ways. Here are some ways in which Langsmith can help with testing:\\n\\n1. **Automated Testing**: Langsmith can be used to automate the testing process by generating test cases, data, and scripts. This can help in reducing manual effort and improving the efficiency of the testing process.\\n\\n2. **Test Data Generation**: Langsmith can assist in generating realistic and diverse test data for testing different scenarios. This can help in covering a wide range of test cases and ensuring comprehensive test coverage.\\n\\n3. **Test Scenario Generation**: Langsmith can generate test scenarios based on the specifications and requirements provided. This can help in identifying potential edge cases and ensuring thorough testing of the software.\\n\\n4. **Test Script Generation**: Langsmith can generate test scripts for different testing frameworks and tools. This can help in streamlining the testing process and ensuring consistency in testing practices.\\n\\n5. **Regression Testing**: Langsmith can be used to automate regression testing by generating test cases for verifying that new changes do not introduce any regressions in the software.\\n\\n6. **Load and Performance Testing**: Langsmith can assist in generating test scenarios for load and performance testing to assess the performance of the software under different load conditions.\\n\\n7. **API Testing**: Langsmith can generate test cases for API testing to validate the functionality and performance of the APIs.\\n\\nOverall, Langsmith can be a valuable tool for testers to automate various aspects of the testing process, improve test coverage, and ensure the quality and reliability of the software being tested.'"
      ]
     },
     "execution_count": 11,
     "metadata": {},
     "output_type": "execute_result"
    },
    {
     "name": "stderr",
     "output_type": "stream",
     "text": [
      "Bad pipe message: %s [b' q=0.9, image/avif, image/webp, image/apng, */*; q=0.8, application/signed-exchange; v=b3; q=0.7\\r\\nHost: loc', b'host:46809\\r\\nUser-Agent: Mozilla/5.0 (Macintosh; Intel Mac OS X 10_15_7) AppleWebKit/537.36 (KHTM']\n",
      "Bad pipe message: %s [b' like Gecko) Chrome/122.0.0.0 Safari/537.36\\r\\nAccept-Encoding: gzip, deflate']\n",
      "Bad pipe message: %s [b'br, zstd\\r\\nAccept-Language: en-US, en; q=0.9']\n",
      "Bad pipe message: %s [b'Cache-Contro']\n",
      "Bad pipe message: %s [b' max-age=0\\r\\nReferer: https://orange-goggles-pqg7qgvjxp9h7g9w.github.dev/\\r\\nX-Request-ID: 8ff4ce4f0b692942941']\n",
      "Bad pipe message: %s [b'de54d3171c2\\r\\nX-Real-IP: 10.240.0.222\\r\\nX-Forwarde', b'Proto: https\\r\\nX-Forwarded-Host: orange-goggles-pqg7qgvjxp9h7g9w-46809.app.github.dev\\r\\nX-Forwarded-P', b't: 443\\r\\nX-Forwarded-Scheme: https\\r\\nX-Original-URI: /\\r\\nX-Scheme: https\\r\\nProxy-Connection: Keep-Alive\\r\\nsec-fetch']\n",
      "Bad pipe message: %s [b'ite: same-site\\r\\nsec-fetch-mode: navigate\\r\\nse', b'fetch-dest: document\\r\\nsec-ch-ua: \"Chromium\";v=\"122\", \"Not(A:Brand\";v=\"24\", \"Google Chrome\";v=\"122\"', b'sec-ch-ua-mo']\n"
     ]
    }
   ],
   "source": [
    "chain.invoke({\"input\": \"how can langsmith help with testing?\"})"
   ]
  }
 ],
 "metadata": {
  "kernelspec": {
   "display_name": "Python 3 (ipykernel)",
   "language": "python",
   "name": "python3"
  },
  "language_info": {
   "codemirror_mode": {
    "name": "ipython",
    "version": 3
   },
   "file_extension": ".py",
   "mimetype": "text/x-python",
   "name": "python",
   "nbconvert_exporter": "python",
   "pygments_lexer": "ipython3",
   "version": "3.10.13"
  }
 },
 "nbformat": 4,
 "nbformat_minor": 5
}
